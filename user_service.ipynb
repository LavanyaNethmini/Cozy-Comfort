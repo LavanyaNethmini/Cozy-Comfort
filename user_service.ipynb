{
 "cells": [
  {
   "cell_type": "code",
   "execution_count": 1,
   "id": "326c7a35-9c9c-4d7b-af54-eca2de05b4da",
   "metadata": {},
   "outputs": [],
   "source": [
    "from flask import Flask, request, jsonify\n",
    "from flask_cors import CORS\n",
    "import mysql.connector\n",
    "\n",
    "app = Flask(__name__)\n",
    "CORS(app)\n",
    "\n",
    "# Reuse connection logic\n",
    "def get_connection():\n",
    "    return mysql.connector.connect(\n",
    "        host=\"localhost\",\n",
    "        port=3308,\n",
    "        user=\"root\",\n",
    "        password=\"\",\n",
    "        database=\"cozy_comfort_db\"\n",
    "    )\n",
    "\n",
    "@app.route('/users', methods=['GET'])\n",
    "def get_all_users():\n",
    "    conn = get_connection()\n",
    "    cursor = conn.cursor(dictionary=True)\n",
    "    \n",
    "    cursor.execute(\"SELECT id, username, email, role FROM users\")\n",
    "    users = cursor.fetchall()\n",
    "    \n",
    "    cursor.close()\n",
    "    conn.close()\n",
    "    \n",
    "    return jsonify(users)\n",
    "\n"
   ]
  },
  {
   "cell_type": "code",
   "execution_count": 2,
   "id": "2d02cd70-0477-4435-869e-685ee8b300e9",
   "metadata": {},
   "outputs": [],
   "source": [
    "@app.route('/users/<int:user_id>', methods=['DELETE'])\n",
    "def delete_user(user_id):\n",
    "    conn = get_connection()\n",
    "    cursor = conn.cursor()\n",
    "    \n",
    "    try:\n",
    "        cursor.execute(\"DELETE FROM users WHERE id = %s\", (user_id,))\n",
    "        conn.commit()\n",
    "        return jsonify({'message': f'User with ID {user_id} deleted successfully'}), 200\n",
    "    except Exception as e:\n",
    "        return jsonify({'error': str(e)}), 500\n",
    "    finally:\n",
    "        cursor.close()\n",
    "        conn.close()\n"
   ]
  },
  {
   "cell_type": "code",
   "execution_count": 3,
   "id": "97d57fa0-51f4-4fdf-9457-db555776ca00",
   "metadata": {},
   "outputs": [],
   "source": [
    "@app.route('/users/<int:user_id>', methods=['GET'])\n",
    "def get_user(user_id):\n",
    "    conn = get_connection()\n",
    "    cursor = conn.cursor(dictionary=True)\n",
    "    cursor.execute(\"SELECT id, username, email, role FROM users WHERE id = %s\", (user_id,))\n",
    "    user = cursor.fetchone()\n",
    "    cursor.close()\n",
    "    conn.close()\n",
    "    \n",
    "    if user:\n",
    "        return jsonify(user)\n",
    "    return jsonify({'error': 'User not found'}), 404"
   ]
  },
  {
   "cell_type": "code",
   "execution_count": 4,
   "id": "bd010278-50c1-435b-a389-b1543261cbec",
   "metadata": {},
   "outputs": [],
   "source": [
    "@app.route('/users/<int:user_id>', methods=['PUT'])\n",
    "def update_user(user_id):\n",
    "    data = request.get_json()\n",
    "    username = data.get('username')\n",
    "    email = data.get('email')\n",
    "    role = data.get('role')\n",
    "\n",
    "    conn = get_connection()\n",
    "    cursor = conn.cursor()\n",
    "    try:\n",
    "        cursor.execute(\"\"\"\n",
    "            UPDATE users SET username = %s, email = %s, role = %s WHERE id = %s\n",
    "        \"\"\", (username, email, role, user_id))\n",
    "        conn.commit()\n",
    "        return jsonify({'message': 'User updated successfully'})\n",
    "    except Exception as e:\n",
    "        return jsonify({'error': str(e)}), 500\n",
    "    finally:\n",
    "        cursor.close()\n",
    "        conn.close()"
   ]
  },
  {
   "cell_type": "code",
   "execution_count": 5,
   "id": "f92a5178-59ea-4b20-b8d6-4022039c1d77",
   "metadata": {},
   "outputs": [],
   "source": [
    "@app.route('/users', methods=['POST'])\n",
    "def create_user():\n",
    "    from flask import request  # just in case it's not at top\n",
    "\n",
    "    data = request.get_json()\n",
    "    username = data.get('username')\n",
    "    email = data.get('email')\n",
    "    password = data.get('password')  # optional: you can omit for now or set default\n",
    "    role = data.get('role')\n",
    "\n",
    "    conn = get_connection()\n",
    "    cursor = conn.cursor()\n",
    "\n",
    "    try:\n",
    "        cursor.execute(\"INSERT INTO users (username, email, password, role) VALUES (%s, %s, %s, %s)\",\n",
    "                       (username, email, password or '', role))\n",
    "        conn.commit()\n",
    "        return jsonify({\"message\": \"User created successfully\"}), 201\n",
    "    except Exception as e:\n",
    "        return jsonify({\"error\": str(e)}), 400\n",
    "    finally:\n",
    "        cursor.close()\n",
    "        conn.close()\n"
   ]
  },
  {
   "cell_type": "code",
   "execution_count": null,
   "id": "b96fecae-cb52-4511-a880-4680cad47ee7",
   "metadata": {},
   "outputs": [
    {
     "name": "stdout",
     "output_type": "stream",
     "text": [
      "\n",
      "User Service Running. Available routes:\n",
      "/static/<path:filename> -> static\n",
      "/users -> get_all_users\n",
      "/users/<int:user_id> -> delete_user\n",
      "/users/<int:user_id> -> get_user\n",
      "/users/<int:user_id> -> update_user\n",
      "/users -> create_user\n",
      " * Serving Flask app '__main__'\n",
      " * Debug mode: off\n"
     ]
    },
    {
     "name": "stderr",
     "output_type": "stream",
     "text": [
      "WARNING: This is a development server. Do not use it in a production deployment. Use a production WSGI server instead.\n",
      " * Running on http://127.0.0.1:5001\n",
      "Press CTRL+C to quit\n",
      "127.0.0.1 - - [04/Aug/2025 21:59:30] \"GET /users HTTP/1.1\" 200 -\n",
      "127.0.0.1 - - [04/Aug/2025 22:00:36] \"OPTIONS /users HTTP/1.1\" 200 -\n",
      "127.0.0.1 - - [04/Aug/2025 22:00:36] \"POST /users HTTP/1.1\" 201 -\n",
      "127.0.0.1 - - [04/Aug/2025 22:00:38] \"GET /users HTTP/1.1\" 200 -\n"
     ]
    }
   ],
   "source": [
    "if __name__ == '__main__':\n",
    "    print(\"\\nUser Service Running. Available routes:\")\n",
    "    for rule in app.url_map.iter_rules():\n",
    "        print(f\"{rule} -> {rule.endpoint}\")\n",
    "    app.run(port=5001)  #  Use different port from auth_service"
   ]
  }
 ],
 "metadata": {
  "kernelspec": {
   "display_name": "Python [conda env:base] *",
   "language": "python",
   "name": "conda-base-py"
  },
  "language_info": {
   "codemirror_mode": {
    "name": "ipython",
    "version": 3
   },
   "file_extension": ".py",
   "mimetype": "text/x-python",
   "name": "python",
   "nbconvert_exporter": "python",
   "pygments_lexer": "ipython3",
   "version": "3.12.7"
  }
 },
 "nbformat": 4,
 "nbformat_minor": 5
}
