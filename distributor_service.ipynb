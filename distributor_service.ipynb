{
 "cells": [
  {
   "cell_type": "code",
   "execution_count": 1,
   "id": "f5e71cf8-6506-4e32-b0d2-99b00170e108",
   "metadata": {},
   "outputs": [],
   "source": [
    "from flask import Flask, jsonify, request\n",
    "from flask_cors import CORS\n",
    "import mysql.connector\n",
    "\n",
    "app = Flask(__name__)\n",
    "CORS(app)\n",
    "\n",
    "# Reuse connection logic\n",
    "def get_connection():\n",
    "    return mysql.connector.connect(\n",
    "        host=\"localhost\",\n",
    "        port=3308,\n",
    "        user=\"root\",\n",
    "        password=\"\",\n",
    "        database=\"cozy_comfort_db\"\n",
    "    )\n",
    "\n",
    "\n",
    "\n"
   ]
  },
  {
   "cell_type": "code",
   "execution_count": 2,
   "id": "15abe801-f3ed-4706-8856-cbda5319a578",
   "metadata": {},
   "outputs": [],
   "source": [
    "@app.route('/api/orders', methods=['GET'])\n",
    "def get_distributor_orders():\n",
    "    distributor_id = request.args.get('distributor_id')\n",
    "\n",
    "    if not distributor_id:\n",
    "        return jsonify({\"error\": \"Missing distributor_id\"}), 400\n",
    "\n",
    "    try:\n",
    "        conn = get_connection()\n",
    "        cursor = conn.cursor(dictionary=True)\n",
    "\n",
    "        query = \"\"\"\n",
    "            SELECT id, customer_name, subtotal, created_at\n",
    "            FROM orders\n",
    "            WHERE distributor_id = %s\n",
    "            ORDER BY created_at DESC\n",
    "            LIMIT 10\n",
    "        \"\"\"\n",
    "        cursor.execute(query, (distributor_id,))\n",
    "        rows = cursor.fetchall()\n",
    "\n",
    "        orders = []\n",
    "        for row in rows:\n",
    "            orders.append({\n",
    "                \"id\": row['id'],\n",
    "                \"customer_name\": row['customer_name'],\n",
    "                \"subtotal\": row['subtotal'],\n",
    "                \"created_at\": row['created_at'].strftime('%B %d, %Y') if row['created_at'] else None\n",
    "            })\n",
    "\n",
    "        cursor.close()\n",
    "        conn.close()\n",
    "\n",
    "        return jsonify({\"orders\": orders}), 200\n",
    "\n",
    "    except Exception as e:\n",
    "        print(\"Error:\", e)\n",
    "        return jsonify({\"error\": \"Failed to fetch orders\"}), 500\n"
   ]
  },
  {
   "cell_type": "code",
   "execution_count": null,
   "id": "21fb6c3e-5237-4030-8c79-9f34b8e798ae",
   "metadata": {},
   "outputs": [
    {
     "name": "stdout",
     "output_type": "stream",
     "text": [
      " * Serving Flask app '__main__'\n",
      " * Debug mode: off\n"
     ]
    },
    {
     "name": "stderr",
     "output_type": "stream",
     "text": [
      "WARNING: This is a development server. Do not use it in a production deployment. Use a production WSGI server instead.\n",
      " * Running on http://127.0.0.1:5004\n",
      "Press CTRL+C to quit\n",
      "127.0.0.1 - - [05/Aug/2025 21:08:31] \"GET /api/orders?distributor_id=3 HTTP/1.1\" 200 -\n",
      "127.0.0.1 - - [05/Aug/2025 21:53:58] \"GET /api/orders?distributor_id=3 HTTP/1.1\" 200 -\n",
      "127.0.0.1 - - [05/Aug/2025 21:54:04] \"GET /api/orders?distributor_id=3 HTTP/1.1\" 200 -\n",
      "127.0.0.1 - - [05/Aug/2025 21:54:25] \"GET /api/orders?distributor_id=3 HTTP/1.1\" 200 -\n",
      "127.0.0.1 - - [05/Aug/2025 21:54:27] \"GET /api/orders?distributor_id=3 HTTP/1.1\" 200 -\n",
      "127.0.0.1 - - [05/Aug/2025 21:54:39] \"GET /api/orders?distributor_id=3 HTTP/1.1\" 200 -\n",
      "127.0.0.1 - - [05/Aug/2025 21:55:26] \"GET /api/orders?distributor_id=3 HTTP/1.1\" 200 -\n",
      "127.0.0.1 - - [05/Aug/2025 21:55:43] \"GET /api/orders?distributor_id=3 HTTP/1.1\" 200 -\n",
      "127.0.0.1 - - [05/Aug/2025 21:57:25] \"GET /notifications/3 HTTP/1.1\" 404 -\n",
      "127.0.0.1 - - [05/Aug/2025 22:01:54] \"GET /notifications/3 HTTP/1.1\" 404 -\n",
      "127.0.0.1 - - [05/Aug/2025 22:01:55] \"GET /notifications/3 HTTP/1.1\" 404 -\n",
      "127.0.0.1 - - [05/Aug/2025 22:04:50] \"POST /notifications HTTP/1.1\" 404 -\n",
      "127.0.0.1 - - [05/Aug/2025 22:09:12] \"POST /notifications HTTP/1.1\" 404 -\n",
      "127.0.0.1 - - [05/Aug/2025 22:12:44] \"GET /notifications/3 HTTP/1.1\" 404 -\n",
      "127.0.0.1 - - [05/Aug/2025 22:14:51] \"GET /notifications/3 HTTP/1.1\" 404 -\n",
      "127.0.0.1 - - [05/Aug/2025 22:15:04] \"GET /notifications/3 HTTP/1.1\" 404 -\n",
      "127.0.0.1 - - [05/Aug/2025 22:15:25] \"POST /notifications HTTP/1.1\" 404 -\n",
      "127.0.0.1 - - [05/Aug/2025 22:16:53] \"GET /notifications/3 HTTP/1.1\" 404 -\n",
      "127.0.0.1 - - [05/Aug/2025 22:17:01] \"POST /notifications HTTP/1.1\" 404 -\n",
      "127.0.0.1 - - [05/Aug/2025 22:19:33] \"GET /notifications/3 HTTP/1.1\" 404 -\n",
      "127.0.0.1 - - [05/Aug/2025 22:24:44] \"POST /notifications/3 HTTP/1.1\" 404 -\n",
      "127.0.0.1 - - [05/Aug/2025 22:25:02] \"POST /notifications HTTP/1.1\" 404 -\n",
      "127.0.0.1 - - [05/Aug/2025 22:25:47] \"GET /notifications/3 HTTP/1.1\" 404 -\n",
      "127.0.0.1 - - [05/Aug/2025 22:25:58] \"GET /notifications/3 HTTP/1.1\" 404 -\n",
      "127.0.0.1 - - [05/Aug/2025 22:28:49] \"GET /notifications/3 HTTP/1.1\" 404 -\n",
      "127.0.0.1 - - [05/Aug/2025 22:31:25] \"POST /notifications HTTP/1.1\" 404 -\n",
      "127.0.0.1 - - [05/Aug/2025 22:31:33] \"POST /notifications HTTP/1.1\" 404 -\n",
      "127.0.0.1 - - [05/Aug/2025 22:36:18] \"GET /notifications/3 HTTP/1.1\" 404 -\n",
      "127.0.0.1 - - [05/Aug/2025 23:28:54] \"GET /api/orders?distributor_id=3 HTTP/1.1\" 200 -\n",
      "127.0.0.1 - - [05/Aug/2025 23:30:53] \"GET /api/orders?distributor_id=3 HTTP/1.1\" 200 -\n",
      "127.0.0.1 - - [05/Aug/2025 23:43:14] \"GET /api/orders?distributor_id=3 HTTP/1.1\" 200 -\n",
      "127.0.0.1 - - [05/Aug/2025 23:56:18] \"GET /api/orders?distributor_id=3 HTTP/1.1\" 200 -\n"
     ]
    }
   ],
   "source": [
    "if __name__ == '__main__':\n",
    "    app.run(port=5004)"
   ]
  }
 ],
 "metadata": {
  "kernelspec": {
   "display_name": "Python [conda env:base] *",
   "language": "python",
   "name": "conda-base-py"
  },
  "language_info": {
   "codemirror_mode": {
    "name": "ipython",
    "version": 3
   },
   "file_extension": ".py",
   "mimetype": "text/x-python",
   "name": "python",
   "nbconvert_exporter": "python",
   "pygments_lexer": "ipython3",
   "version": "3.12.7"
  }
 },
 "nbformat": 4,
 "nbformat_minor": 5
}
