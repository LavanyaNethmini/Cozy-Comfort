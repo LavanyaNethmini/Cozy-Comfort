{
 "cells": [
  {
   "cell_type": "code",
   "execution_count": 1,
   "id": "95bfa0f4-98e0-4ce9-a012-c7e5a519bd3f",
   "metadata": {},
   "outputs": [
    {
     "name": "stdout",
     "output_type": "stream",
     "text": [
      "Connected to cozy_comfort_db successfully!\n"
     ]
    }
   ],
   "source": [
    "from flask import Flask, request, jsonify\n",
    "from flask_cors import CORS\n",
    "from flask_sqlalchemy import SQLAlchemy\n",
    "import mysql.connector\n",
    "\n",
    "app = Flask(__name__)\n",
    "CORS(app)\n",
    "\n",
    "\n",
    "# Database connection\n",
    "def get_connection():\n",
    "    return mysql.connector.connect(\n",
    "        host=\"localhost\",\n",
    "        port=3308,\n",
    "        user=\"root\",\n",
    "        password=\"\",\n",
    "        database=\"cozy_comfort_db\"\n",
    "    )\n",
    "\n",
    "# Test connection\n",
    "try:\n",
    "    conn = get_connection()\n",
    "    print(\"Connected to cozy_comfort_db successfully!\")\n",
    "    conn.close()\n",
    "except Exception as e:\n",
    "    print(\"Connection failed:\", e)"
   ]
  },
  {
   "cell_type": "code",
   "execution_count": 2,
   "id": "dbf8846d-791a-46ea-a7af-e4360f5faded",
   "metadata": {},
   "outputs": [],
   "source": [
    "@app.route('/notifications', methods=['POST'])\n",
    "def create_notification():\n",
    "    data = request.get_json()\n",
    "    title = data.get('title')\n",
    "    message = data.get('message')\n",
    "    distributor_id = data.get('distributor_id')\n",
    "    seller_name = data.get('seller_name')\n",
    "    subtotal = data.get('subtotal')\n",
    "    placed_on = data.get('placed_on')\n",
    "\n",
    "    if not title or not message or not distributor_id:\n",
    "        return jsonify({'error': 'Missing required fields'}), 400\n",
    "\n",
    "    try:\n",
    "        conn = get_connection()\n",
    "        cursor = conn.cursor()\n",
    "        cursor.execute(\"\"\"\n",
    "            INSERT INTO notifications (title, message, distributor_id, seller_name, subtotal, placed_on)\n",
    "            VALUES (%s, %s, %s, %s, %s, %s)\n",
    "        \"\"\", (title, message, distributor_id, seller_name, subtotal, placed_on))\n",
    "        conn.commit()\n",
    "        cursor.close()\n",
    "        conn.close()\n",
    "        return jsonify({'message': 'Notification created'}), 201\n",
    "    except Exception as e:\n",
    "        return jsonify({'error': str(e)}), 500\n",
    "\n"
   ]
  },
  {
   "cell_type": "code",
   "execution_count": 3,
   "id": "2663bb17-70cc-4939-9d96-065a42df15dc",
   "metadata": {},
   "outputs": [],
   "source": [
    "@app.route('/notifications', methods=['GET'])\n",
    "def get_all_notifications():\n",
    "    try:\n",
    "        conn = get_connection()\n",
    "        cursor = conn.cursor(dictionary=True)\n",
    "        cursor.execute(\"\"\"\n",
    "            SELECT id, title, message, distributor_id, is_read, created_at\n",
    "            FROM notifications\n",
    "            ORDER BY created_at DESC\n",
    "        \"\"\")\n",
    "        notifications = cursor.fetchall()\n",
    "        cursor.close()\n",
    "        conn.close()\n",
    "        return jsonify(notifications), 200\n",
    "    except Exception as e:\n",
    "        return jsonify({'error': str(e)}), 500"
   ]
  },
  {
   "cell_type": "code",
   "execution_count": 4,
   "id": "7d40f1f6-ca06-4fda-b753-bfe99f44c2fc",
   "metadata": {},
   "outputs": [],
   "source": [
    "@app.route('/notifications/<int:distributor_id>', methods=['GET'])\n",
    "def get_notifications(distributor_id):\n",
    "    try:\n",
    "        conn = get_connection()\n",
    "        cursor = conn.cursor(dictionary=True)\n",
    "        cursor.execute(\"\"\"\n",
    "            SELECT id, title, message, is_read, created_at\n",
    "            FROM notifications\n",
    "            WHERE distributor_id = %s\n",
    "            ORDER BY created_at DESC\n",
    "        \"\"\", (distributor_id,))\n",
    "        notifications = cursor.fetchall()\n",
    "        cursor.close()\n",
    "        conn.close()\n",
    "        return jsonify(notifications), 200\n",
    "    except Exception as e:\n",
    "        return jsonify({'error': str(e)}), 500\n"
   ]
  },
  {
   "cell_type": "code",
   "execution_count": 5,
   "id": "e7004ee7-bff1-4ece-b889-2868070fa2ec",
   "metadata": {},
   "outputs": [],
   "source": [
    "@app.route('/notifications/<int:notification_id>/read', methods=['PUT'])\n",
    "def mark_notification_as_read(notification_id):\n",
    "    try:\n",
    "        conn = get_connection()\n",
    "        cursor = conn.cursor()\n",
    "        cursor.execute(\"\"\"\n",
    "            UPDATE notifications\n",
    "            SET is_read = TRUE\n",
    "            WHERE id = %s\n",
    "        \"\"\", (notification_id,))\n",
    "        conn.commit()\n",
    "        cursor.close()\n",
    "        conn.close()\n",
    "        return jsonify({'message': 'Notification marked as read'}), 200\n",
    "    except Exception as e:\n",
    "        return jsonify({'error': str(e)}), 500"
   ]
  },
  {
   "cell_type": "code",
   "execution_count": null,
   "id": "5413bc4d-97f3-4a78-a771-047eff3a41a7",
   "metadata": {},
   "outputs": [
    {
     "name": "stdout",
     "output_type": "stream",
     "text": [
      " * Serving Flask app '__main__'\n",
      " * Debug mode: off\n"
     ]
    },
    {
     "name": "stderr",
     "output_type": "stream",
     "text": [
      "WARNING: This is a development server. Do not use it in a production deployment. Use a production WSGI server instead.\n",
      " * Running on http://127.0.0.1:5006\n",
      "Press CTRL+C to quit\n"
     ]
    }
   ],
   "source": [
    "if __name__ == '__main__':\n",
    "    app.run(port=5006)"
   ]
  }
 ],
 "metadata": {
  "kernelspec": {
   "display_name": "Python [conda env:base] *",
   "language": "python",
   "name": "conda-base-py"
  },
  "language_info": {
   "codemirror_mode": {
    "name": "ipython",
    "version": 3
   },
   "file_extension": ".py",
   "mimetype": "text/x-python",
   "name": "python",
   "nbconvert_exporter": "python",
   "pygments_lexer": "ipython3",
   "version": "3.12.7"
  }
 },
 "nbformat": 4,
 "nbformat_minor": 5
}
