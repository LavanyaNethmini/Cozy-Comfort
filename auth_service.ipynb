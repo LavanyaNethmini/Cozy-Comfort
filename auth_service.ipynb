{
 "cells": [
  {
   "cell_type": "code",
   "execution_count": 1,
   "id": "fe50c23f-9bf4-47a5-9684-329dc4ef61af",
   "metadata": {},
   "outputs": [
    {
     "name": "stdout",
     "output_type": "stream",
     "text": [
      "Requirement already satisfied: flask in d:\\setup\\new folder\\lib\\site-packages (3.0.3)\n",
      "Requirement already satisfied: Werkzeug>=3.0.0 in d:\\setup\\new folder\\lib\\site-packages (from flask) (3.0.3)\n",
      "Requirement already satisfied: Jinja2>=3.1.2 in d:\\setup\\new folder\\lib\\site-packages (from flask) (3.1.4)\n",
      "Requirement already satisfied: itsdangerous>=2.1.2 in d:\\setup\\new folder\\lib\\site-packages (from flask) (2.2.0)\n",
      "Requirement already satisfied: click>=8.1.3 in d:\\setup\\new folder\\lib\\site-packages (from flask) (8.1.7)\n",
      "Requirement already satisfied: blinker>=1.6.2 in d:\\setup\\new folder\\lib\\site-packages (from flask) (1.6.2)\n",
      "Requirement already satisfied: colorama in d:\\setup\\new folder\\lib\\site-packages (from click>=8.1.3->flask) (0.4.6)\n",
      "Requirement already satisfied: MarkupSafe>=2.0 in d:\\setup\\new folder\\lib\\site-packages (from Jinja2>=3.1.2->flask) (2.1.3)\n"
     ]
    }
   ],
   "source": [
    "!pip install flask"
   ]
  },
  {
   "cell_type": "code",
   "execution_count": 2,
   "id": "6f303a84-f291-4768-b953-087fcf29de6a",
   "metadata": {
    "scrolled": true
   },
   "outputs": [
    {
     "name": "stdout",
     "output_type": "stream",
     "text": [
      "Connected to cozy_comfort_db successfully!\n"
     ]
    }
   ],
   "source": [
    "from flask import Flask, request, jsonify\n",
    "from flask_cors import CORS  # Add this import\n",
    "import mysql.connector\n",
    "import jwt\n",
    "import datetime\n",
    "\n",
    "\n",
    "app = Flask(__name__)\n",
    "CORS(app)  # Enable CORS for all routes\n",
    "\n",
    "# Database connection\n",
    "def get_connection():\n",
    "    return mysql.connector.connect(\n",
    "        host=\"localhost\",\n",
    "        port=3308,\n",
    "        user=\"root\",\n",
    "        password=\"\",\n",
    "        database=\"cozy_comfort_db\"\n",
    "    )\n",
    "\n",
    "# Test connection\n",
    "try:\n",
    "    conn = get_connection()\n",
    "    print(\"Connected to cozy_comfort_db successfully!\")\n",
    "    conn.close()\n",
    "except Exception as e:\n",
    "    print(\"Connection failed:\", e)\n"
   ]
  },
  {
   "cell_type": "code",
   "execution_count": 3,
   "id": "d145cdd3-f67b-4ece-8362-d2067a5e2141",
   "metadata": {},
   "outputs": [],
   "source": [
    "@app.route('/register', methods=['POST'])\n",
    "def register():\n",
    "    data = request.get_json()\n",
    "    username = data.get('username')\n",
    "    email = data.get('email')\n",
    "    password = data.get('password')\n",
    "    role = data.get('role')\n",
    "\n",
    "    conn = get_connection()\n",
    "    cursor = conn.cursor()\n",
    "    try:\n",
    "        cursor.execute(\"INSERT INTO users (username, email, password, role) VALUES (%s, %s, %s, %s)\", \n",
    "                       (username, email, password, role))\n",
    "        conn.commit()\n",
    "        return jsonify({'message': 'User registered successfully'}), 201\n",
    "    except mysql.connector.Error as e:\n",
    "        return jsonify({'error': str(e)}), 400\n",
    "    finally:\n",
    "        cursor.close()\n",
    "        conn.close()"
   ]
  },
  {
   "cell_type": "code",
   "execution_count": 4,
   "id": "abec78d9-49c4-4b22-9a58-b16091900dba",
   "metadata": {},
   "outputs": [],
   "source": [
    "@app.route('/login', methods=['POST'])\n",
    "def login():\n",
    "    data = request.get_json()\n",
    "    email = data.get('email')\n",
    "    password = data.get('password')\n",
    "\n",
    "    conn = get_connection()\n",
    "    cursor = conn.cursor(dictionary=True)\n",
    "    try:\n",
    "        cursor.execute(\n",
    "            \"SELECT id, username, email, role FROM users WHERE email = %s AND password = %s\",\n",
    "            (email, password)\n",
    "        )\n",
    "        user = cursor.fetchone()\n",
    "\n",
    "        if user:\n",
    "            # Generate token\n",
    "            token = jwt.encode({\n",
    "                'user_id': user['id'],\n",
    "                'role': user['role'],\n",
    "                'exp': datetime.datetime.utcnow() + datetime.timedelta(hours=1)\n",
    "            }, 'your_secret_key', algorithm='HS256')\n",
    "\n",
    "            # ✅ Return username & email so frontend can store them\n",
    "            return jsonify({\n",
    "                'message': 'Login successful',\n",
    "                'user': {\n",
    "                    'id': user['id'],\n",
    "                    'username': user['username'],\n",
    "                    'email': user['email'],\n",
    "                    'role': user['role']\n",
    "                },\n",
    "                'token': token\n",
    "            }), 200\n",
    "        else:\n",
    "            return jsonify({'message': 'Invalid email or password'}), 401\n",
    "\n",
    "    except mysql.connector.Error as e:\n",
    "        return jsonify({'error': str(e)}), 400\n",
    "    finally:\n",
    "        cursor.close()\n",
    "        conn.close()\n",
    "\n"
   ]
  },
  {
   "cell_type": "code",
   "execution_count": null,
   "id": "b9b0dd0d-6c0e-4f59-9c40-c4ef5c351b4f",
   "metadata": {},
   "outputs": [
    {
     "name": "stdout",
     "output_type": "stream",
     "text": [
      " * Serving Flask app '__main__'\n",
      " * Debug mode: off\n"
     ]
    },
    {
     "name": "stderr",
     "output_type": "stream",
     "text": [
      "WARNING: This is a development server. Do not use it in a production deployment. Use a production WSGI server instead.\n",
      " * Running on http://127.0.0.1:5000\n",
      "Press CTRL+C to quit\n",
      "127.0.0.1 - - [05/Aug/2025 23:28:54] \"OPTIONS /login HTTP/1.1\" 200 -\n",
      "C:\\Users\\ASUS\\AppData\\Local\\Temp\\ipykernel_15864\\4059979993.py:21: DeprecationWarning: datetime.datetime.utcnow() is deprecated and scheduled for removal in a future version. Use timezone-aware objects to represent datetimes in UTC: datetime.datetime.now(datetime.UTC).\n",
      "  'exp': datetime.datetime.utcnow() + datetime.timedelta(hours=1)\n",
      "127.0.0.1 - - [05/Aug/2025 23:28:54] \"POST /login HTTP/1.1\" 200 -\n"
     ]
    }
   ],
   "source": [
    "if __name__ == '__main__':\n",
    "    app.run(port=5000)"
   ]
  },
  {
   "cell_type": "code",
   "execution_count": null,
   "id": "2b61cf2d-a7c3-465b-a8e5-f2502b03a548",
   "metadata": {},
   "outputs": [],
   "source": []
  }
 ],
 "metadata": {
  "kernelspec": {
   "display_name": "Python [conda env:base] *",
   "language": "python",
   "name": "conda-base-py"
  },
  "language_info": {
   "codemirror_mode": {
    "name": "ipython",
    "version": 3
   },
   "file_extension": ".py",
   "mimetype": "text/x-python",
   "name": "python",
   "nbconvert_exporter": "python",
   "pygments_lexer": "ipython3",
   "version": "3.12.7"
  }
 },
 "nbformat": 4,
 "nbformat_minor": 5
}
